{
 "cells": [
  {
   "cell_type": "markdown",
   "metadata": {},
   "source": [
    "# Survival analysis: a linear approach\n",
    "\n",
    "Survival analysis is a branch of statistics that analyses the expected duration of time till one or more events will happen. Originating from biomedicine, a lot of studies have focused on time till death / recovery following medical treatment. The method can also be successfully applied to all kinds of industries, to name a few: \n",
    "- predicting customer / employee churn for marketing or HR, \n",
    "- probability of default modelling for the banking and insurance industry, \n",
    "- time till failure for utility maintenance,\n",
    "- ... .\n",
    "\n",
    "What all these business questions have in common is that they want to model a censored event, meaning: for some observations we did not observe the event taking place (maybe it will never take place). As a result, these business questions are mostly modelled using a classification approach: a time-window is selected and one classifies whether an event will take place during that time-window or not. \n",
    "However, this approach has some down-sides: \n",
    "- the criteria to select the time-window are _arbitrarily_, \n",
    "- information during this time-window cannot be used as it is part of the target, \n",
    "- a complete neglectance of the aspect _time_ till the event takes place. \n",
    "\n",
    "Naturally, survival analysis solves the above down-sides by explicitly optimizing an objective function that takes the censoring into account. Then why is it not very well-known? \n",
    "One answer may lie in the fact that survival modelling - the relationship between the survival curve and observation characteristics - is quite new. It was only in 1972 that David Cox provided us with a toolset to model the relationship between survival and observation characteristics. \n",
    "\n",
    "In this notebook, I provide a genuine introduction to survival analysis in Python. That is, I will for the moment not focus on more advanced methodologies that deal with time-dependent covariates, left truncation nor implement any of the more flexible machine (deep) learning approaches. These may be part of later, upcoming notebooks. \n",
    "As a business case, I will attempt to model customer churn at the telecom sector by making use of the publicly available IBM telecom dataset. The dataset has been extensively used as part of the Kaggle datasets and thereby was extensively studies by classification approaches (a good example is https://towardsdatascience.com/predict-customer-churn-with-r-9e62357d47b4).\n",
    "\n",
    "While I have a lot of experience in survival analysis in R, I am quite new in the Python environment. As such, these notebooks serve to warm-up my coldwater feets as well.\n",
    "\n",
    "Have a nice read!"
   ]
  },
  {
   "cell_type": "markdown",
   "metadata": {},
   "source": [
    "## Some basic concepts\n",
    "\n",
    "Before making our hands dirty with some code, lets first introduce some concepts. "
   ]
  },
  {
   "cell_type": "markdown",
   "metadata": {},
   "source": [
    "## Setting-up the work environment"
   ]
  },
  {
   "cell_type": "code",
   "execution_count": 31,
   "metadata": {
    "scrolled": true
   },
   "outputs": [
    {
     "name": "stdout",
     "output_type": "stream",
     "text": [
      "C:\\Users\\vande70\\OneDrive - Cronos\\Cursussen\\Survival Analysis\\code\n"
     ]
    }
   ],
   "source": [
    "import os\n",
    "import csv\n",
    "print(os.getcwd())\n",
    "\n",
    "import pandas as pd\n",
    "import numpy as np\n",
    "import matplotlib.pyplot as plt\n",
    "import seaborn as sns\n",
    "\n",
    "import lifelines\n",
    "from lifelines import KaplanMeierFitter\n",
    "from lifelines import NelsonAalenFitter"
   ]
  },
  {
   "cell_type": "markdown",
   "metadata": {},
   "source": [
    "## Inspecting the data"
   ]
  },
  {
   "cell_type": "code",
   "execution_count": 32,
   "metadata": {
    "scrolled": true
   },
   "outputs": [
    {
     "name": "stdout",
     "output_type": "stream",
     "text": [
      "(7043, 20)\n",
      "<class 'pandas.core.frame.DataFrame'>\n",
      "Index: 7043 entries, 7590-VHVEG to 3186-AJIEK\n",
      "Data columns (total 20 columns):\n",
      "gender              7043 non-null object\n",
      "SeniorCitizen       7043 non-null int64\n",
      "Partner             7043 non-null object\n",
      "Dependents          7043 non-null object\n",
      "tenure              7043 non-null int64\n",
      "PhoneService        7043 non-null object\n",
      "MultipleLines       7043 non-null object\n",
      "InternetService     7043 non-null object\n",
      "OnlineSecurity      7043 non-null object\n",
      "OnlineBackup        7043 non-null object\n",
      "DeviceProtection    7043 non-null object\n",
      "TechSupport         7043 non-null object\n",
      "StreamingTV         7043 non-null object\n",
      "StreamingMovies     7043 non-null object\n",
      "Contract            7043 non-null object\n",
      "PaperlessBilling    7043 non-null object\n",
      "PaymentMethod       7043 non-null object\n",
      "MonthlyCharges      7043 non-null float64\n",
      "TotalCharges        7043 non-null object\n",
      "Churn               7043 non-null object\n",
      "dtypes: float64(1), int64(2), object(17)\n",
      "memory usage: 1.1+ MB\n",
      "None\n",
      "gender              0\n",
      "SeniorCitizen       0\n",
      "Partner             0\n",
      "Dependents          0\n",
      "tenure              0\n",
      "PhoneService        0\n",
      "MultipleLines       0\n",
      "InternetService     0\n",
      "OnlineSecurity      0\n",
      "OnlineBackup        0\n",
      "DeviceProtection    0\n",
      "TechSupport         0\n",
      "StreamingTV         0\n",
      "StreamingMovies     0\n",
      "Contract            0\n",
      "PaperlessBilling    0\n",
      "PaymentMethod       0\n",
      "MonthlyCharges      0\n",
      "TotalCharges        0\n",
      "Churn               0\n",
      "dtype: int64\n"
     ]
    }
   ],
   "source": [
    "#churn = csv.reader('..\\data\\telco-customer-churn.csv', delimiter=',')\n",
    "churn = pd.read_csv('..\\data\\WA_Fn-UseC_-Telco-Customer-Churn.csv', index_col='customerID')\n",
    "\n",
    "print(churn.shape)\n",
    "print(churn.info())\n",
    "print(churn.isnull().sum())"
   ]
  },
  {
   "cell_type": "markdown",
   "metadata": {},
   "source": [
    "To model customer churn using survival analysis, we need to have two types of information: (1) a time indicator that specifies a duration till last day of observation or any given month of observation and (2) an indicator whether churn was observed or not. In this dataset, we have a variable tenure (in months) that describes the duration till last observation and a variable churn that specifies whether the churn event takes place.   "
   ]
  },
  {
   "cell_type": "code",
   "execution_count": 33,
   "metadata": {
    "scrolled": true
   },
   "outputs": [
    {
     "name": "stdout",
     "output_type": "stream",
     "text": [
      "count    7043.000000\n",
      "mean       32.371149\n",
      "std        24.559481\n",
      "min         0.000000\n",
      "25%         9.000000\n",
      "50%        29.000000\n",
      "75%        55.000000\n",
      "max        72.000000\n",
      "Name: tenure, dtype: float64\n",
      "No     0.73463\n",
      "Yes    0.26537\n",
      "Name: Churn, dtype: float64\n",
      "0    0.73463\n",
      "1    0.26537\n",
      "Name: Churn, dtype: float64\n"
     ]
    }
   ],
   "source": [
    "print(churn['tenure'].describe())\n",
    "print(pd.value_counts(churn['Churn']) / len(churn))\n",
    "# we recode our outcome variable as being binary (0: no churn, 1: churn)\n",
    "churn[\"Churn\"] = np.where(churn['Churn']=='Yes', 1, 0)\n",
    "print(pd.value_counts(churn['Churn']) / len(churn))"
   ]
  },
  {
   "cell_type": "markdown",
   "metadata": {},
   "source": [
    "We find the average tenure at point of last observation to be 32.3 months. This is an underestimation for the average tenure of clients given that only 26 percent of the clients witnessed churn during the time of observation.\n",
    "Combining these two pieces, we can create our main descriptive statistics: (1) the survival curve and (2) the hazard curve. "
   ]
  },
  {
   "cell_type": "code",
   "execution_count": 34,
   "metadata": {},
   "outputs": [
    {
     "data": {
      "text/plain": [
       "<matplotlib.axes._subplots.AxesSubplot at 0x1dbf37cf860>"
      ]
     },
     "execution_count": 34,
     "metadata": {},
     "output_type": "execute_result"
    },
    {
     "data": {
      "image/png": "[encoded data removed]",
      "text/plain": [
       "<Figure size 432x288 with 1 Axes>"
      ]
     },
     "metadata": {
      "needs_background": "light"
     },
     "output_type": "display_data"
    }
   ],
   "source": [
    "kmf = KaplanMeierFitter()\n",
    "kmf.fit(churn['tenure'], event_observed=churn['Churn'])\n",
    "kmf.survival_function_.plot()"
   ]
  },
  {
   "cell_type": "markdown",
   "metadata": {},
   "source": [
    "anf"
   ]
  }
 ],
 "metadata": {
  "kernelspec": {
   "display_name": "Python 3",
   "language": "python",
   "name": "python3"
  },
  "language_info": {
   "codemirror_mode": {
    "name": "ipython",
    "version": 3
   },
   "file_extension": ".py",
   "mimetype": "text/x-python",
   "name": "python",
   "nbconvert_exporter": "python",
   "pygments_lexer": "ipython3",
   "version": "3.7.1"
  },
  "toc": {
   "base_numbering": 1,
   "nav_menu": {},
   "number_sections": true,
   "sideBar": true,
   "skip_h1_title": false,
   "title_cell": "Table of Contents",
   "title_sidebar": "Contents",
   "toc_cell": false,
   "toc_position": {},
   "toc_section_display": true,
   "toc_window_display": true
  },
  "varInspector": {
   "cols": {
    "lenName": 16,
    "lenType": 16,
    "lenVar": 40
   },
   "kernels_config": {
    "python": {
     "delete_cmd_postfix": "",
     "delete_cmd_prefix": "del ",
     "library": "var_list.py",
     "varRefreshCmd": "print(var_dic_list())"
    },
    "r": {
     "delete_cmd_postfix": ") ",
     "delete_cmd_prefix": "rm(",
     "library": "var_list.r",
     "varRefreshCmd": "cat(var_dic_list()) "
    }
   },
   "types_to_exclude": [
    "module",
    "function",
    "builtin_function_or_method",
    "instance",
    "_Feature"
   ],
   "window_display": false
  }
 },
 "nbformat": 4,
 "nbformat_minor": 2
}
