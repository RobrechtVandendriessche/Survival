{
 "cells": [
  {
   "cell_type": "code",
   "execution_count": 2,
   "metadata": {},
   "outputs": [
    {
     "name": "stdout",
     "output_type": "stream",
     "text": [
      "C:\\Users\\vande70\\OneDrive - Cronos\\Cursussen\\Survival Analysis\\code\n"
     ]
    }
   ],
   "source": [
    "import os\n",
    "import csv\n",
    "print(os.getcwd())\n",
    "\n",
    "import pandas as pd\n",
    "import numpy as np\n",
    "from scipy import stats\n",
    "\n",
    "import matplotlib.pyplot as plt\n",
    "import seaborn as sns\n",
    "sns.set_style('whitegrid')"
   ]
  },
  {
   "cell_type": "code",
   "execution_count": 3,
   "metadata": {},
   "outputs": [],
   "source": [
    "def cramers_v(cat1='', cat2='', data=''):\n",
    "    confusion_matrix = pd.crosstab(data[cat1],data[cat2])\n",
    "    chi2 = stats.chi2_contingency(confusion_matrix)[0]\n",
    "    n = confusion_matrix.sum().sum()\n",
    "    phi2 = chi2/n\n",
    "    r,k = confusion_matrix.shape\n",
    "    phi2corr = max(0, phi2-((k-1)*(r-1))/(n-1))\n",
    "    rcorr = r-((r-1)**2)/(n-1)\n",
    "    kcorr = k-((k-1)**2)/(n-1)\n",
    "    return np.sqrt(phi2corr/min((kcorr-1),(rcorr-1)))\n",
    "\n",
    "def correlation_ratio(cat, cont, data):\n",
    "    fcat, _ = pd.factorize(data[cat])\n",
    "    cat_num = np.max(fcat)+1\n",
    "    y_avg_array = np.zeros(cat_num)\n",
    "    n_array = np.zeros(cat_num)\n",
    "    for i in range(0,cat_num):\n",
    "        cat_measures = data[cont][np.argwhere(fcat == i).flatten()]\n",
    "        n_array[i] = len(cat_measures)\n",
    "        y_avg_array[i] = np.average(cat_measures)\n",
    "    y_total_avg = np.sum(np.multiply(y_avg_array,n_array))/np.sum(n_array)\n",
    "    numerator = np.sum(np.multiply(n_array,np.power(np.subtract(y_avg_array,y_total_avg),2)))\n",
    "    denominator = np.sum(np.power(np.subtract(data[cont],y_total_avg),2))\n",
    "    if numerator == 0:\n",
    "        eta = 0.0\n",
    "    else:\n",
    "        eta = numerator/denominator\n",
    "    return eta"
   ]
  },
  {
   "cell_type": "code",
   "execution_count": 4,
   "metadata": {},
   "outputs": [],
   "source": [
    "# Create function to explore some bivariate relationships\n",
    "def univariate(df_set, x_var):\n",
    "    if (df_set[x_var].dtype in [\"int64\", \"float64\"] and df_set[x_var].nunique() > 10):\n",
    "            sns.distplot(df_set[x_var])\n",
    "    elif (df_set[x_var].nunique() <= 10):\n",
    "            sns.countplot(df_set[x_var])\n",
    "    else:\n",
    "        \"dtype not recognized or too many categories\"\n",
    "        \n",
    "def bivariate(df_set, y_var, x_var):\n",
    "    if (df_set[x_var].dtype in [\"int64\", \"float64\"] and df_set[x_var].nunique() > 10):\n",
    "            sns.boxplot(x=y_var, y=x_var, data=df_set)\n",
    "            # Kruskall-Wallis test\n",
    "            statistic, pvalue = stats.kruskal(df[df[y_var]=='lost'][x_var], df[df[y_var]=='won'][x_var])\n",
    "            print('Kruskall-Wallis test statistic:', statistic)\n",
    "            print('Probablity H0 of independent distributions is true:', pvalue)       \n",
    "            \n",
    "    elif (df_set[x_var].nunique() <= 10):\n",
    "            sns.barplot(x=x_var, y=y_var, data=df_set, estimator=np.mean)\n",
    "            # Pearson chisquare test (only large samples!!!)\n",
    "            cont_table = pd.crosstab(df[x_var], df[y_var])\n",
    "            statistic, pvalue, dof, expected = stats.chi2_contingency(cont_table)\n",
    "            print('Pearson Chi-square test statistic:', statistic)\n",
    "            print('Probablity H0 of independent distributions is true:', pvalue)\n",
    "\n",
    "    else:\n",
    "        \"dtype not recognized or too many categories\""
   ]
  }
 ],
 "metadata": {
  "kernelspec": {
   "display_name": "Python 3",
   "language": "python",
   "name": "python3"
  },
  "language_info": {
   "codemirror_mode": {
    "name": "ipython",
    "version": 3
   },
   "file_extension": ".py",
   "mimetype": "text/x-python",
   "name": "python",
   "nbconvert_exporter": "python",
   "pygments_lexer": "ipython3",
   "version": "3.7.1"
  },
  "toc": {
   "base_numbering": 1,
   "nav_menu": {},
   "number_sections": true,
   "sideBar": true,
   "skip_h1_title": false,
   "title_cell": "Table of Contents",
   "title_sidebar": "Contents",
   "toc_cell": false,
   "toc_position": {},
   "toc_section_display": true,
   "toc_window_display": false
  },
  "varInspector": {
   "cols": {
    "lenName": 16,
    "lenType": 16,
    "lenVar": 40
   },
   "kernels_config": {
    "python": {
     "delete_cmd_postfix": "",
     "delete_cmd_prefix": "del ",
     "library": "var_list.py",
     "varRefreshCmd": "print(var_dic_list())"
    },
    "r": {
     "delete_cmd_postfix": ") ",
     "delete_cmd_prefix": "rm(",
     "library": "var_list.r",
     "varRefreshCmd": "cat(var_dic_list()) "
    }
   },
   "types_to_exclude": [
    "module",
    "function",
    "builtin_function_or_method",
    "instance",
    "_Feature"
   ],
   "window_display": false
  }
 },
 "nbformat": 4,
 "nbformat_minor": 2
}
