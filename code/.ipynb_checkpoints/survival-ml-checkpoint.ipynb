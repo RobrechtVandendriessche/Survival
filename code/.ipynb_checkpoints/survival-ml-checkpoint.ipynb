{
 "cells": [
  {
   "cell_type": "markdown",
   "metadata": {},
   "source": [
    "# Survival analysis: a machine learning approach using scikit-survival"
   ]
  },
  {
   "cell_type": "markdown",
   "metadata": {},
   "source": [
    "## Introduction"
   ]
  },
  {
   "cell_type": "markdown",
   "metadata": {},
   "source": [
    "Survival analysis is a branch of statistics that analyses the expected duration of time till one or more events will happen. While less well-known as classification approaches to these kind of questions, its outcomes are far richer: estimated probabilties that an event will happen during any time interval, expected remaining lifetime,... . Its all in there! In this notebook, I present a survival machine learning approach to predict customer churn. \n",
    "\n",
    "The goals of this notebook are threefold: \n",
    "- setting-up a machine learning pipeline for survival analysis, \n",
    "- comparing different survival machine learning models according to different performance metrics, \n",
    "- compare survival machine learning outcomes with classification exercises. \n",
    "\n",
    "I will not go over the basics of survival analysis again. If you are interested in these, I invite you to take a look at the notebook survival-basics.ipynb.\n",
    "\n",
    "Have a nice read,   \n",
    "  \n",
    "Robrecht"
   ]
  },
  {
   "cell_type": "markdown",
   "metadata": {},
   "source": [
    "## Setting-up work environment"
   ]
  },
  {
   "cell_type": "code",
   "execution_count": 4,
   "metadata": {},
   "outputs": [
    {
     "name": "stdout",
     "output_type": "stream",
     "text": [
      "C:\\Users\\vande70\\OneDrive - Cronos\\Cursussen\\Survival Analysis\\code\n"
     ]
    }
   ],
   "source": [
    "import os\n",
    "import csv\n",
    "print(os.getcwd())\n",
    "\n",
    "import pandas as pd\n",
    "import numpy as np\n",
    "from scipy import stats\n",
    "\n",
    "import matplotlib.pyplot as plt\n",
    "import seaborn as sns\n",
    "sns.set_style('whitegrid')\n",
    "\n",
    "import lifelines\n",
    "from lifelines import KaplanMeierFitter\n",
    "from lifelines import WeibullFitter\n",
    "from lifelines import NelsonAalenFitter\n",
    "\n",
    "#import scikit-survival as sksurv\n",
    "\n",
    "%run \"helper-functions\";"
   ]
  },
  {
   "cell_type": "code",
   "execution_count": 5,
   "metadata": {},
   "outputs": [
    {
     "name": "stdout",
     "output_type": "stream",
     "text": [
      "(7043, 20)\n",
      "            gender  SeniorCitizen Partner Dependents  tenure PhoneService  \\\n",
      "customerID                                                                  \n",
      "7590-VHVEG  Female              0     Yes         No       1           No   \n",
      "5575-GNVDE    Male              0      No         No      34          Yes   \n",
      "3668-QPYBK    Male              0      No         No       2          Yes   \n",
      "7795-CFOCW    Male              0      No         No      45           No   \n",
      "9237-HQITU  Female              0      No         No       2          Yes   \n",
      "\n",
      "               MultipleLines InternetService OnlineSecurity OnlineBackup  \\\n",
      "customerID                                                                 \n",
      "7590-VHVEG  No phone service             DSL             No          Yes   \n",
      "5575-GNVDE                No             DSL            Yes           No   \n",
      "3668-QPYBK                No             DSL            Yes          Yes   \n",
      "7795-CFOCW  No phone service             DSL            Yes           No   \n",
      "9237-HQITU                No     Fiber optic             No           No   \n",
      "\n",
      "           DeviceProtection TechSupport StreamingTV StreamingMovies  \\\n",
      "customerID                                                            \n",
      "7590-VHVEG               No          No          No              No   \n",
      "5575-GNVDE              Yes          No          No              No   \n",
      "3668-QPYBK               No          No          No              No   \n",
      "7795-CFOCW              Yes         Yes          No              No   \n",
      "9237-HQITU               No          No          No              No   \n",
      "\n",
      "                  Contract PaperlessBilling              PaymentMethod  \\\n",
      "customerID                                                               \n",
      "7590-VHVEG  Month-to-month              Yes           Electronic check   \n",
      "5575-GNVDE        One year               No               Mailed check   \n",
      "3668-QPYBK  Month-to-month              Yes               Mailed check   \n",
      "7795-CFOCW        One year               No  Bank transfer (automatic)   \n",
      "9237-HQITU  Month-to-month              Yes           Electronic check   \n",
      "\n",
      "            MonthlyCharges  TotalCharges Churn  \n",
      "customerID                                      \n",
      "7590-VHVEG           29.85         29.85    No  \n",
      "5575-GNVDE           56.95       1889.50    No  \n",
      "3668-QPYBK           53.85        108.15   Yes  \n",
      "7795-CFOCW           42.30       1840.75    No  \n",
      "9237-HQITU           70.70        151.65   Yes  \n"
     ]
    }
   ],
   "source": [
    "churn = pd.read_csv('..\\data\\WA_Fn-UseC_-Telco-Customer-Churn.csv', index_col='customerID', na_values=[' '])\n",
    "print(churn.shape)\n",
    "print(churn.head())\n",
    "#print(churn.isnull().sum()"
   ]
  },
  {
   "cell_type": "markdown",
   "metadata": {},
   "source": [
    "## Data cleaning"
   ]
  },
  {
   "cell_type": "markdown",
   "metadata": {},
   "source": [
    "### Correct types"
   ]
  },
  {
   "cell_type": "code",
   "execution_count": 6,
   "metadata": {},
   "outputs": [
    {
     "name": "stdout",
     "output_type": "stream",
     "text": [
      "<class 'pandas.core.frame.DataFrame'>\n",
      "Index: 7043 entries, 7590-VHVEG to 3186-AJIEK\n",
      "Data columns (total 20 columns):\n",
      "gender              7043 non-null object\n",
      "SeniorCitizen       7043 non-null int64\n",
      "Partner             7043 non-null object\n",
      "Dependents          7043 non-null object\n",
      "tenure              7043 non-null int64\n",
      "PhoneService        7043 non-null object\n",
      "MultipleLines       7043 non-null object\n",
      "InternetService     7043 non-null object\n",
      "OnlineSecurity      7043 non-null object\n",
      "OnlineBackup        7043 non-null object\n",
      "DeviceProtection    7043 non-null object\n",
      "TechSupport         7043 non-null object\n",
      "StreamingTV         7043 non-null object\n",
      "StreamingMovies     7043 non-null object\n",
      "Contract            7043 non-null object\n",
      "PaperlessBilling    7043 non-null object\n",
      "PaymentMethod       7043 non-null object\n",
      "MonthlyCharges      7043 non-null float64\n",
      "TotalCharges        7032 non-null float64\n",
      "Churn               7043 non-null object\n",
      "dtypes: float64(2), int64(2), object(16)\n",
      "memory usage: 1.1+ MB\n",
      "None\n"
     ]
    }
   ],
   "source": [
    "print(churn.info())"
   ]
  },
  {
   "cell_type": "code",
   "execution_count": 7,
   "metadata": {},
   "outputs": [],
   "source": [
    "churn[churn.select_dtypes(['object']).columns] = churn.select_dtypes(['object']).apply(lambda x: x.astype('category'))"
   ]
  },
  {
   "cell_type": "code",
   "execution_count": 8,
   "metadata": {},
   "outputs": [
    {
     "name": "stdout",
     "output_type": "stream",
     "text": [
      "0    0.73463\n",
      "1    0.26537\n",
      "Name: Churn, dtype: float64\n"
     ]
    }
   ],
   "source": [
    "# Set churn as numeric as categorical variables are not admitted by a lot of models\n",
    "pd.value_counts(churn['Churn'])\n",
    "churn[\"Churn\"] = np.where(churn['Churn']=='Yes', 1, 0)\n",
    "print(pd.value_counts(churn['Churn']) / len(churn))"
   ]
  },
  {
   "cell_type": "code",
   "execution_count": 9,
   "metadata": {},
   "outputs": [
    {
     "name": "stdout",
     "output_type": "stream",
     "text": [
      "No     5901\n",
      "Yes    1142\n",
      "Name: SeniorCitizen, dtype: int64\n"
     ]
    }
   ],
   "source": [
    "churn[\"SeniorCitizen\"] = np.where(churn['SeniorCitizen']==1, 'Yes', 'No')\n",
    "churn[\"SeniorCitizen\"] = churn[\"SeniorCitizen\"].astype('category')\n",
    "print(pd.value_counts(churn['SeniorCitizen']))"
   ]
  },
  {
   "cell_type": "code",
   "execution_count": 10,
   "metadata": {},
   "outputs": [
    {
     "name": "stdout",
     "output_type": "stream",
     "text": [
      "<class 'pandas.core.frame.DataFrame'>\n",
      "Index: 7043 entries, 7590-VHVEG to 3186-AJIEK\n",
      "Data columns (total 20 columns):\n",
      "gender              7043 non-null category\n",
      "SeniorCitizen       7043 non-null category\n",
      "Partner             7043 non-null category\n",
      "Dependents          7043 non-null category\n",
      "tenure              7043 non-null int64\n",
      "PhoneService        7043 non-null category\n",
      "MultipleLines       7043 non-null category\n",
      "InternetService     7043 non-null category\n",
      "OnlineSecurity      7043 non-null category\n",
      "OnlineBackup        7043 non-null category\n",
      "DeviceProtection    7043 non-null category\n",
      "TechSupport         7043 non-null category\n",
      "StreamingTV         7043 non-null category\n",
      "StreamingMovies     7043 non-null category\n",
      "Contract            7043 non-null category\n",
      "PaperlessBilling    7043 non-null category\n",
      "PaymentMethod       7043 non-null category\n",
      "MonthlyCharges      7043 non-null float64\n",
      "TotalCharges        7032 non-null float64\n",
      "Churn               7043 non-null int32\n",
      "dtypes: category(16), float64(2), int32(1), int64(1)\n",
      "memory usage: 359.3+ KB\n",
      "None\n"
     ]
    }
   ],
   "source": [
    "print(churn.info())"
   ]
  },
  {
   "cell_type": "markdown",
   "metadata": {},
   "source": [
    "### Data cleaning"
   ]
  },
  {
   "cell_type": "code",
   "execution_count": 11,
   "metadata": {},
   "outputs": [
    {
     "name": "stdout",
     "output_type": "stream",
     "text": [
      "Male      3555\n",
      "Female    3488\n",
      "Name: gender, dtype: int64\n",
      "No     5901\n",
      "Yes    1142\n",
      "Name: SeniorCitizen, dtype: int64\n",
      "No     3641\n",
      "Yes    3402\n",
      "Name: Partner, dtype: int64\n",
      "No     4933\n",
      "Yes    2110\n",
      "Name: Dependents, dtype: int64\n",
      "Yes    6361\n",
      "No      682\n",
      "Name: PhoneService, dtype: int64\n",
      "No                  3390\n",
      "Yes                 2971\n",
      "No phone service     682\n",
      "Name: MultipleLines, dtype: int64\n",
      "Fiber optic    3096\n",
      "DSL            2421\n",
      "No             1526\n",
      "Name: InternetService, dtype: int64\n",
      "No                     3498\n",
      "Yes                    2019\n",
      "No internet service    1526\n",
      "Name: OnlineSecurity, dtype: int64\n",
      "No                     3088\n",
      "Yes                    2429\n",
      "No internet service    1526\n",
      "Name: OnlineBackup, dtype: int64\n",
      "No                     3095\n",
      "Yes                    2422\n",
      "No internet service    1526\n",
      "Name: DeviceProtection, dtype: int64\n",
      "No                     3473\n",
      "Yes                    2044\n",
      "No internet service    1526\n",
      "Name: TechSupport, dtype: int64\n",
      "No                     2810\n",
      "Yes                    2707\n",
      "No internet service    1526\n",
      "Name: StreamingTV, dtype: int64\n",
      "No                     2785\n",
      "Yes                    2732\n",
      "No internet service    1526\n",
      "Name: StreamingMovies, dtype: int64\n",
      "Month-to-month    3875\n",
      "Two year          1695\n",
      "One year          1473\n",
      "Name: Contract, dtype: int64\n",
      "Yes    4171\n",
      "No     2872\n",
      "Name: PaperlessBilling, dtype: int64\n",
      "Electronic check             2365\n",
      "Mailed check                 1612\n",
      "Bank transfer (automatic)    1544\n",
      "Credit card (automatic)      1522\n",
      "Name: PaymentMethod, dtype: int64\n",
      "count    7043.000000\n",
      "mean       32.371149\n",
      "std        24.559481\n",
      "min         0.000000\n",
      "25%         9.000000\n",
      "50%        29.000000\n",
      "75%        55.000000\n",
      "max        72.000000\n",
      "Name: tenure, dtype: float64\n",
      "count    7043.000000\n",
      "mean       64.761692\n",
      "std        30.090047\n",
      "min        18.250000\n",
      "25%        35.500000\n",
      "50%        70.350000\n",
      "75%        89.850000\n",
      "max       118.750000\n",
      "Name: MonthlyCharges, dtype: float64\n",
      "count    7032.000000\n",
      "mean     2283.300441\n",
      "std      2266.771362\n",
      "min        18.800000\n",
      "25%       401.450000\n",
      "50%      1397.475000\n",
      "75%      3794.737500\n",
      "max      8684.800000\n",
      "Name: TotalCharges, dtype: float64\n"
     ]
    }
   ],
   "source": [
    "for i in churn.select_dtypes(include='category'):\n",
    "    print(pd.value_counts(churn[i]))\n",
    "for i in churn.select_dtypes(include=['int64', 'float']):\n",
    "    print(churn[i].describe())"
   ]
  },
  {
   "cell_type": "markdown",
   "metadata": {},
   "source": [
    "We remove all tenure equal to zero as these cannot be accepted by some models and are quite absurd to use. "
   ]
  },
  {
   "cell_type": "code",
   "execution_count": 12,
   "metadata": {
    "scrolled": true
   },
   "outputs": [
    {
     "name": "stdout",
     "output_type": "stream",
     "text": [
      "            tenure        Churn\n",
      "count  7032.000000  7032.000000\n",
      "mean     32.421786     0.265785\n",
      "std      24.545260     0.441782\n",
      "min       1.000000     0.000000\n",
      "25%       9.000000     0.000000\n",
      "50%      29.000000     0.000000\n",
      "75%      55.000000     1.000000\n",
      "max      72.000000     1.000000\n"
     ]
    }
   ],
   "source": [
    "churn = churn[churn['tenure'] > 0]\n",
    "print(churn[['tenure', 'Churn']].describe())"
   ]
  },
  {
   "cell_type": "markdown",
   "metadata": {},
   "source": [
    "Now, we move on by inspecting the missings. There seems to be no missings, hence easy peasy go"
   ]
  },
  {
   "cell_type": "code",
   "execution_count": 13,
   "metadata": {},
   "outputs": [
    {
     "name": "stdout",
     "output_type": "stream",
     "text": [
      "gender              0\n",
      "SeniorCitizen       0\n",
      "Partner             0\n",
      "Dependents          0\n",
      "tenure              0\n",
      "PhoneService        0\n",
      "MultipleLines       0\n",
      "InternetService     0\n",
      "OnlineSecurity      0\n",
      "OnlineBackup        0\n",
      "DeviceProtection    0\n",
      "TechSupport         0\n",
      "StreamingTV         0\n",
      "StreamingMovies     0\n",
      "Contract            0\n",
      "PaperlessBilling    0\n",
      "PaymentMethod       0\n",
      "MonthlyCharges      0\n",
      "TotalCharges        0\n",
      "Churn               0\n",
      "dtype: int64\n"
     ]
    }
   ],
   "source": [
    "print(churn.isnull().sum())"
   ]
  },
  {
   "cell_type": "markdown",
   "metadata": {},
   "source": [
    "Now, lets clean-up the content of the categorical variables."
   ]
  },
  {
   "cell_type": "code",
   "execution_count": null,
   "metadata": {},
   "outputs": [],
   "source": []
  },
  {
   "cell_type": "markdown",
   "metadata": {},
   "source": [
    "### Select correct sample (row-wise and column-wise)\n",
    "\n",
    "Since there are no missings and we filtered allready all observations with tenure equal to zero, we only check some columns. Most importantly to see if there is some multicollinearity."
   ]
  },
  {
   "cell_type": "markdown",
   "metadata": {},
   "source": [
    "First, lets take a look at the correlations between the continuous variables."
   ]
  },
  {
   "cell_type": "code",
   "execution_count": 48,
   "metadata": {
    "scrolled": false
   },
   "outputs": [
    {
     "data": {
      "image/png": "[encoded data removed]",
      "text/plain": [
       "<Figure size 432x288 with 2 Axes>"
      ]
     },
     "metadata": {
      "needs_background": "light"
     },
     "output_type": "display_data"
    }
   ],
   "source": [
    "corr_mat = churn.corr()\n",
    "\n",
    "sns.heatmap(corr_mat, \n",
    "            xticklabels=corr_mat.index.values,\n",
    "            yticklabels=corr_mat.columns.values)\n",
    "plt.show()"
   ]
  },
  {
   "cell_type": "code",
   "execution_count": 49,
   "metadata": {},
   "outputs": [
    {
     "name": "stdout",
     "output_type": "stream",
     "text": [
      "                  tenure  MonthlyCharges  TotalCharges     Churn\n",
      "tenure          1.000000        0.246862      0.825880 -0.354049\n",
      "MonthlyCharges  0.246862        1.000000      0.651065  0.192858\n",
      "TotalCharges    0.825880        0.651065      1.000000 -0.199484\n",
      "Churn          -0.354049        0.192858     -0.199484  1.000000\n"
     ]
    }
   ],
   "source": [
    "print(corr_mat)"
   ]
  },
  {
   "cell_type": "markdown",
   "metadata": {},
   "source": [
    "Second, lets take a look at the association between the categorical variables."
   ]
  },
  {
   "cell_type": "code",
   "execution_count": 50,
   "metadata": {},
   "outputs": [
    {
     "name": "stdout",
     "output_type": "stream",
     "text": [
      "Cramers V: 0.1421771426428549\n"
     ]
    }
   ],
   "source": [
    "print('Cramers V:', cramers_v(cat1='SeniorCitizen', cat2='Contract', data=churn))"
   ]
  },
  {
   "cell_type": "code",
   "execution_count": 51,
   "metadata": {},
   "outputs": [
    {
     "data": {
      "image/png": "[encoded data removed]",
      "text/plain": [
       "<Figure size 432x288 with 2 Axes>"
      ]
     },
     "metadata": {
      "needs_background": "light"
     },
     "output_type": "display_data"
    }
   ],
   "source": [
    "cat = churn.select_dtypes(include='category').columns\n",
    "cramersv_mat = pd.DataFrame(index=cat, columns=cat)\n",
    "cramersv_mat = cramersv_mat.fillna(0) # with 0s rather than NaNs\n",
    "\n",
    "for i, j in enumerate(cat): \n",
    "    for u, v in enumerate(cat):\n",
    "        cramersv_mat.iloc[i, u] = cramers_v(cat1=j, cat2=v, data=churn)\n",
    "\n",
    "sns.heatmap(cramersv_mat, \n",
    "            xticklabels=cramersv_mat.columns.values,\n",
    "            yticklabels=cramersv_mat.index.values)\n",
    "plt.show()\n",
    "#print(cramersv_mat)"
   ]
  },
  {
   "cell_type": "markdown",
   "metadata": {},
   "source": [
    "Last, lets take a look at the association between a categorical and continuous variable."
   ]
  },
  {
   "cell_type": "code",
   "execution_count": null,
   "metadata": {},
   "outputs": [],
   "source": [
    "print('Correlation Ratio:', correlation_ratio(cat='SeniorCitizen', cont='MonthlyCharges', data=churn))"
   ]
  },
  {
   "cell_type": "code",
   "execution_count": 47,
   "metadata": {
    "scrolled": true
   },
   "outputs": [
    {
     "data": {
      "image/png": "[encoded data removed]",
      "text/plain": [
       "<Figure size 432x288 with 2 Axes>"
      ]
     },
     "metadata": {
      "needs_background": "light"
     },
     "output_type": "display_data"
    }
   ],
   "source": [
    "# In matrix\n",
    "cat = churn.select_dtypes(include='category').columns\n",
    "cont = churn.select_dtypes(include=['int64', 'float']).columns\n",
    "corratio_mat = pd.DataFrame(index=cat, columns=cont)\n",
    "corratio_mat = corratio_mat.fillna(0) # with 0s rather than NaNs\n",
    "\n",
    "for i, j in enumerate(cat): \n",
    "    for u, v in enumerate(cont):\n",
    "        corratio_mat.iloc[i, u] = correlation_ratio(cat=j, cont=v, data=churn)\n",
    "\n",
    "sns.heatmap(corratio_mat, \n",
    "            xticklabels=corratio_mat.columns.values,\n",
    "            yticklabels=corratio_mat.index.values)\n",
    "plt.show()\n",
    "#print(corratio_mat)"
   ]
  },
  {
   "cell_type": "markdown",
   "metadata": {},
   "source": [
    "Based on the above analysis, we decide to drop a few variables as they appear to be to highly associated with the other ones. "
   ]
  },
  {
   "cell_type": "code",
   "execution_count": null,
   "metadata": {},
   "outputs": [],
   "source": [
    "to_drop = ['MonthlyCharges', 'PhoneService']\n",
    "churn.drop(churn[to_drop], axis=1, inplace=True)"
   ]
  },
  {
   "cell_type": "code",
   "execution_count": null,
   "metadata": {
    "scrolled": false
   },
   "outputs": [],
   "source": [
    "print(churn.columns)"
   ]
  },
  {
   "cell_type": "markdown",
   "metadata": {},
   "source": [
    "## Descriptive statistics"
   ]
  },
  {
   "cell_type": "code",
   "execution_count": 52,
   "metadata": {
    "scrolled": true
   },
   "outputs": [
    {
     "data": {
      "text/plain": [
       "<matplotlib.axes._subplots.AxesSubplot at 0x2b7b0557cf8>"
      ]
     },
     "execution_count": 52,
     "metadata": {},
     "output_type": "execute_result"
    },
    {
     "data": {
      "image/png": "[encoded data removed]",
      "text/plain": [
       "<Figure size 432x288 with 1 Axes>"
      ]
     },
     "metadata": {
      "needs_background": "light"
     },
     "output_type": "display_data"
    }
   ],
   "source": [
    "kmf = KaplanMeierFitter()\n",
    "kmf.fit(churn['tenure'], event_observed=churn['Churn'])\n",
    "kmf.plot()"
   ]
  },
  {
   "cell_type": "code",
   "execution_count": 53,
   "metadata": {},
   "outputs": [
    {
     "name": "stdout",
     "output_type": "stream",
     "text": [
      "['SeniorCitizen', 'Dependents', 'gender', 'Partner']\n"
     ]
    }
   ],
   "source": [
    "#xvar = 'SeniorCitizen'\n",
    "xvars = list(set(churn.iloc[:,0:4].columns) - set(['tenure', 'Churn']))\n",
    "print(xvars)"
   ]
  },
  {
   "cell_type": "code",
   "execution_count": 54,
   "metadata": {},
   "outputs": [
    {
     "data": {
      "image/png": "[encoded data removed]",
      "text/plain": [
       "<Figure size 432x288 with 1 Axes>"
      ]
     },
     "metadata": {
      "needs_background": "light"
     },
     "output_type": "display_data"
    }
   ],
   "source": [
    "xvar = 'gender'\n",
    "ax = plt.subplot(111)\n",
    "\n",
    "for name, grouped_df in churn.groupby(xvar):\n",
    "    kmf.fit(grouped_df['tenure'], grouped_df['Churn'], label=name)\n",
    "    kmf.plot(ax=ax, legend=True)\n",
    "    plt.title(xvar)\n",
    "    plt.xlim(0, 80)\n",
    "    plt.ylabel('Fraction customers not churned \\n after t months')\n",
    "    plt.xlabel('t (months)')\n",
    "    #plt.show()"
   ]
  },
  {
   "cell_type": "code",
   "execution_count": 55,
   "metadata": {},
   "outputs": [
    {
     "data": {
      "image/png": "[encoded data removed]",
      "text/plain": [
       "<Figure size 432x288 with 4 Axes>"
      ]
     },
     "metadata": {
      "needs_background": "light"
     },
     "output_type": "display_data"
    }
   ],
   "source": [
    "for i, xvar in enumerate(xvars):\n",
    "    ax = plt.subplot(2, 2, i+1)\n",
    "    for name, grouped_df in churn.groupby(xvar):\n",
    "        kmf.fit(grouped_df['tenure'], grouped_df['Churn'], label=name)\n",
    "        kmf.plot(ax=ax, legend=True)\n",
    "        plt.title(xvar)\n",
    "        plt.xlim(0, 80)\n",
    "        plt.ylabel('Fraction customers not churned \\n after t months')\n",
    "        plt.xlabel('t (months)')"
   ]
  },
  {
   "cell_type": "markdown",
   "metadata": {},
   "source": [
    "## Survival machine learning"
   ]
  },
  {
   "cell_type": "code",
   "execution_count": null,
   "metadata": {},
   "outputs": [],
   "source": []
  },
  {
   "cell_type": "markdown",
   "metadata": {},
   "source": [
    "## How does survival ml compares to classification ml?"
   ]
  },
  {
   "cell_type": "code",
   "execution_count": null,
   "metadata": {},
   "outputs": [],
   "source": []
  },
  {
   "cell_type": "markdown",
   "metadata": {},
   "source": [
    "## Summary"
   ]
  }
 ],
 "metadata": {
  "kernelspec": {
   "display_name": "Python 3",
   "language": "python",
   "name": "python3"
  },
  "language_info": {
   "codemirror_mode": {
    "name": "ipython",
    "version": 3
   },
   "file_extension": ".py",
   "mimetype": "text/x-python",
   "name": "python",
   "nbconvert_exporter": "python",
   "pygments_lexer": "ipython3",
   "version": "3.7.1"
  },
  "toc": {
   "base_numbering": 1,
   "nav_menu": {},
   "number_sections": true,
   "sideBar": true,
   "skip_h1_title": false,
   "title_cell": "Table of Contents",
   "title_sidebar": "Contents",
   "toc_cell": false,
   "toc_position": {
    "height": "calc(100% - 180px)",
    "left": "10px",
    "top": "150px",
    "width": "426.667px"
   },
   "toc_section_display": true,
   "toc_window_display": true
  },
  "varInspector": {
   "cols": {
    "lenName": 16,
    "lenType": 16,
    "lenVar": 40
   },
   "kernels_config": {
    "python": {
     "delete_cmd_postfix": "",
     "delete_cmd_prefix": "del ",
     "library": "var_list.py",
     "varRefreshCmd": "print(var_dic_list())"
    },
    "r": {
     "delete_cmd_postfix": ") ",
     "delete_cmd_prefix": "rm(",
     "library": "var_list.r",
     "varRefreshCmd": "cat(var_dic_list()) "
    }
   },
   "types_to_exclude": [
    "module",
    "function",
    "builtin_function_or_method",
    "instance",
    "_Feature"
   ],
   "window_display": false
  }
 },
 "nbformat": 4,
 "nbformat_minor": 2
}
